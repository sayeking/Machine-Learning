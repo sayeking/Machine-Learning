{
 "cells": [
  {
   "cell_type": "markdown",
   "id": "f276a173-b6d6-486f-aa5b-45a920bf61a1",
   "metadata": {},
   "source": [
    "# Unsupervised ML\n",
    "## Association Rule mining (e.g MBA (MARKET BASKET ANALYSIS)\n",
    "### APRIORI ALGORITHM"
   ]
  },
  {
   "cell_type": "code",
   "execution_count": 9,
   "id": "a70855e5-4722-4ce9-b71c-9a5e515e64cb",
   "metadata": {},
   "outputs": [],
   "source": [
    "data = [\n",
    "    ['milk', 'bread', 'butter'],\n",
    "    ['bread', 'butter'],\n",
    "    ['milk', 'bread'],\n",
    "    ['milk', 'bread', 'jam', 'butter'],\n",
    "    ['bread', 'jam']\n",
    "]"
   ]
  },
  {
   "cell_type": "code",
   "execution_count": 28,
   "id": "cfb7bb9c-4ece-4dc4-8610-72281dcb19a0",
   "metadata": {},
   "outputs": [
    {
     "data": {
      "text/plain": [
       "[['milk', 'bread', 'butter'],\n",
       " ['bread', 'butter'],\n",
       " ['milk', 'bread'],\n",
       " ['milk', 'bread', 'jam', 'butter'],\n",
       " ['bread', 'jam']]"
      ]
     },
     "execution_count": 28,
     "metadata": {},
     "output_type": "execute_result"
    }
   ],
   "source": [
    "data"
   ]
  },
  {
   "cell_type": "code",
   "execution_count": 30,
   "id": "0db830de-0b28-42ee-8c05-c8087910e00b",
   "metadata": {},
   "outputs": [
    {
     "name": "stdout",
     "output_type": "stream",
     "text": [
      "Defaulting to user installation because normal site-packages is not writeable\n",
      "Collecting mlxtend\n",
      "  Downloading mlxtend-0.23.4-py3-none-any.whl.metadata (7.3 kB)\n",
      "Requirement already satisfied: scipy>=1.2.1 in c:\\programdata\\anaconda3\\lib\\site-packages (from mlxtend) (1.13.1)\n",
      "Requirement already satisfied: numpy>=1.16.2 in c:\\programdata\\anaconda3\\lib\\site-packages (from mlxtend) (1.26.4)\n",
      "Requirement already satisfied: pandas>=0.24.2 in c:\\programdata\\anaconda3\\lib\\site-packages (from mlxtend) (2.2.2)\n",
      "Requirement already satisfied: scikit-learn>=1.3.1 in c:\\programdata\\anaconda3\\lib\\site-packages (from mlxtend) (1.4.2)\n",
      "Requirement already satisfied: matplotlib>=3.0.0 in c:\\programdata\\anaconda3\\lib\\site-packages (from mlxtend) (3.8.4)\n",
      "Requirement already satisfied: joblib>=0.13.2 in c:\\programdata\\anaconda3\\lib\\site-packages (from mlxtend) (1.4.2)\n",
      "Requirement already satisfied: contourpy>=1.0.1 in c:\\programdata\\anaconda3\\lib\\site-packages (from matplotlib>=3.0.0->mlxtend) (1.2.0)\n",
      "Requirement already satisfied: cycler>=0.10 in c:\\programdata\\anaconda3\\lib\\site-packages (from matplotlib>=3.0.0->mlxtend) (0.11.0)\n",
      "Requirement already satisfied: fonttools>=4.22.0 in c:\\programdata\\anaconda3\\lib\\site-packages (from matplotlib>=3.0.0->mlxtend) (4.51.0)\n",
      "Requirement already satisfied: kiwisolver>=1.3.1 in c:\\programdata\\anaconda3\\lib\\site-packages (from matplotlib>=3.0.0->mlxtend) (1.4.4)\n",
      "Requirement already satisfied: packaging>=20.0 in c:\\programdata\\anaconda3\\lib\\site-packages (from matplotlib>=3.0.0->mlxtend) (23.2)\n",
      "Requirement already satisfied: pillow>=8 in c:\\programdata\\anaconda3\\lib\\site-packages (from matplotlib>=3.0.0->mlxtend) (10.3.0)\n",
      "Requirement already satisfied: pyparsing>=2.3.1 in c:\\programdata\\anaconda3\\lib\\site-packages (from matplotlib>=3.0.0->mlxtend) (3.0.9)\n",
      "Requirement already satisfied: python-dateutil>=2.7 in c:\\programdata\\anaconda3\\lib\\site-packages (from matplotlib>=3.0.0->mlxtend) (2.9.0.post0)\n",
      "Requirement already satisfied: pytz>=2020.1 in c:\\programdata\\anaconda3\\lib\\site-packages (from pandas>=0.24.2->mlxtend) (2024.1)\n",
      "Requirement already satisfied: tzdata>=2022.7 in c:\\programdata\\anaconda3\\lib\\site-packages (from pandas>=0.24.2->mlxtend) (2023.3)\n",
      "Requirement already satisfied: threadpoolctl>=2.0.0 in c:\\programdata\\anaconda3\\lib\\site-packages (from scikit-learn>=1.3.1->mlxtend) (2.2.0)\n",
      "Requirement already satisfied: six>=1.5 in c:\\programdata\\anaconda3\\lib\\site-packages (from python-dateutil>=2.7->matplotlib>=3.0.0->mlxtend) (1.16.0)\n",
      "Downloading mlxtend-0.23.4-py3-none-any.whl (1.4 MB)\n",
      "   ---------------------------------------- 0.0/1.4 MB ? eta -:--:--\n",
      "   ---------------------------------------- 0.0/1.4 MB ? eta -:--:--\n",
      "   ---------------------------------------- 0.0/1.4 MB ? eta -:--:--\n",
      "   ---------------------------------------- 0.0/1.4 MB ? eta -:--:--\n",
      "   - -------------------------------------- 0.0/1.4 MB 245.8 kB/s eta 0:00:06\n",
      "   -- ------------------------------------- 0.1/1.4 MB 476.3 kB/s eta 0:00:03\n",
      "   ------ --------------------------------- 0.2/1.4 MB 986.4 kB/s eta 0:00:02\n",
      "   ----------- ---------------------------- 0.4/1.4 MB 1.4 MB/s eta 0:00:01\n",
      "   ------------------- -------------------- 0.7/1.4 MB 2.1 MB/s eta 0:00:01\n",
      "   -------------------------- ------------- 0.9/1.4 MB 2.5 MB/s eta 0:00:01\n",
      "   ------------------------------ --------- 1.0/1.4 MB 2.5 MB/s eta 0:00:01\n",
      "   ---------------------------------- ----- 1.2/1.4 MB 2.6 MB/s eta 0:00:01\n",
      "   ---------------------------------------  1.4/1.4 MB 2.7 MB/s eta 0:00:01\n",
      "   ---------------------------------------- 1.4/1.4 MB 2.6 MB/s eta 0:00:00\n",
      "Installing collected packages: mlxtend\n",
      "Successfully installed mlxtend-0.23.4\n",
      "Note: you may need to restart the kernel to use updated packages.\n"
     ]
    }
   ],
   "source": [
    "pip install mlxtend"
   ]
  },
  {
   "cell_type": "code",
   "execution_count": 26,
   "id": "2bebc388-875c-46cf-b9a7-a7603d72d90c",
   "metadata": {},
   "outputs": [],
   "source": [
    "import pandas as pd\n",
    "import matplotlib.pyplot as plt\n",
    "from mlxtend.preprocessing import TransactionEncoder\n",
    "from mlxtend.frequent_patterns import apriori, association_rules"
   ]
  },
  {
   "cell_type": "code",
   "execution_count": 27,
   "id": "87941b91-0c29-4f18-9c17-4435d26e2e01",
   "metadata": {},
   "outputs": [],
   "source": [
    "data = [\n",
    "    ['milk', 'bread', 'butter'],\n",
    "    ['bread', 'butter'],\n",
    "    ['milk', 'bread'],\n",
    "    ['milk', 'bread', 'jam', 'butter'],\n",
    "    ['bread', 'jam']\n",
    "]"
   ]
  },
  {
   "cell_type": "code",
   "execution_count": 28,
   "id": "997307bd-2e74-40cd-b677-11d328921836",
   "metadata": {},
   "outputs": [],
   "source": [
    "te =  TransactionEncoder()"
   ]
  },
  {
   "cell_type": "code",
   "execution_count": 29,
   "id": "c63378fa-bd83-4385-8b81-c64f73b8fdba",
   "metadata": {},
   "outputs": [],
   "source": [
    "te.ary= te.fit(data).transform(data)"
   ]
  },
  {
   "cell_type": "code",
   "execution_count": 30,
   "id": "f768cc81-c20c-4f3f-8c9a-7e8a9db028c6",
   "metadata": {},
   "outputs": [],
   "source": [
    "df = pd.DataFrame(te.ary,columns = te.columns_)"
   ]
  },
  {
   "cell_type": "code",
   "execution_count": 31,
   "id": "f1c09adf-ce24-4d48-9dbd-cb68308cc7aa",
   "metadata": {},
   "outputs": [
    {
     "data": {
      "text/html": [
       "<div>\n",
       "<style scoped>\n",
       "    .dataframe tbody tr th:only-of-type {\n",
       "        vertical-align: middle;\n",
       "    }\n",
       "\n",
       "    .dataframe tbody tr th {\n",
       "        vertical-align: top;\n",
       "    }\n",
       "\n",
       "    .dataframe thead th {\n",
       "        text-align: right;\n",
       "    }\n",
       "</style>\n",
       "<table border=\"1\" class=\"dataframe\">\n",
       "  <thead>\n",
       "    <tr style=\"text-align: right;\">\n",
       "      <th></th>\n",
       "      <th>bread</th>\n",
       "      <th>butter</th>\n",
       "      <th>jam</th>\n",
       "      <th>milk</th>\n",
       "    </tr>\n",
       "  </thead>\n",
       "  <tbody>\n",
       "    <tr>\n",
       "      <th>0</th>\n",
       "      <td>True</td>\n",
       "      <td>True</td>\n",
       "      <td>False</td>\n",
       "      <td>True</td>\n",
       "    </tr>\n",
       "    <tr>\n",
       "      <th>1</th>\n",
       "      <td>True</td>\n",
       "      <td>True</td>\n",
       "      <td>False</td>\n",
       "      <td>False</td>\n",
       "    </tr>\n",
       "    <tr>\n",
       "      <th>2</th>\n",
       "      <td>True</td>\n",
       "      <td>False</td>\n",
       "      <td>False</td>\n",
       "      <td>True</td>\n",
       "    </tr>\n",
       "    <tr>\n",
       "      <th>3</th>\n",
       "      <td>True</td>\n",
       "      <td>True</td>\n",
       "      <td>True</td>\n",
       "      <td>True</td>\n",
       "    </tr>\n",
       "    <tr>\n",
       "      <th>4</th>\n",
       "      <td>True</td>\n",
       "      <td>False</td>\n",
       "      <td>True</td>\n",
       "      <td>False</td>\n",
       "    </tr>\n",
       "  </tbody>\n",
       "</table>\n",
       "</div>"
      ],
      "text/plain": [
       "   bread  butter    jam   milk\n",
       "0   True    True  False   True\n",
       "1   True    True  False  False\n",
       "2   True   False  False   True\n",
       "3   True    True   True   True\n",
       "4   True   False   True  False"
      ]
     },
     "execution_count": 31,
     "metadata": {},
     "output_type": "execute_result"
    }
   ],
   "source": [
    "df.head()"
   ]
  },
  {
   "cell_type": "code",
   "execution_count": 32,
   "id": "8220b4a7-5ddc-4304-ba75-9e42d09fec92",
   "metadata": {},
   "outputs": [
    {
     "data": {
      "text/plain": [
       "bread     0\n",
       "butter    0\n",
       "jam       0\n",
       "milk      0\n",
       "dtype: int64"
      ]
     },
     "execution_count": 32,
     "metadata": {},
     "output_type": "execute_result"
    }
   ],
   "source": [
    "df.isnull().sum()"
   ]
  },
  {
   "cell_type": "code",
   "execution_count": 33,
   "id": "856d9000-719d-4963-8c45-d9bc50a87bec",
   "metadata": {},
   "outputs": [
    {
     "name": "stdout",
     "output_type": "stream",
     "text": [
      "<class 'pandas.core.frame.DataFrame'>\n",
      "RangeIndex: 5 entries, 0 to 4\n",
      "Data columns (total 4 columns):\n",
      " #   Column  Non-Null Count  Dtype\n",
      "---  ------  --------------  -----\n",
      " 0   bread   5 non-null      bool \n",
      " 1   butter  5 non-null      bool \n",
      " 2   jam     5 non-null      bool \n",
      " 3   milk    5 non-null      bool \n",
      "dtypes: bool(4)\n",
      "memory usage: 152.0 bytes\n"
     ]
    }
   ],
   "source": [
    "df.info()"
   ]
  },
  {
   "cell_type": "code",
   "execution_count": 34,
   "id": "9c7106b8-417d-4d9f-a0ac-006361dd88e8",
   "metadata": {},
   "outputs": [
    {
     "data": {
      "text/plain": [
       "Index(['bread', 'butter', 'jam', 'milk'], dtype='object')"
      ]
     },
     "execution_count": 34,
     "metadata": {},
     "output_type": "execute_result"
    }
   ],
   "source": [
    "df.columns"
   ]
  },
  {
   "cell_type": "code",
   "execution_count": 35,
   "id": "55e025ff-c275-499b-83eb-e6bb60c4301f",
   "metadata": {},
   "outputs": [
    {
     "data": {
      "text/plain": [
       "(5, 4)"
      ]
     },
     "execution_count": 35,
     "metadata": {},
     "output_type": "execute_result"
    }
   ],
   "source": [
    "df.shape"
   ]
  },
  {
   "cell_type": "code",
   "execution_count": 36,
   "id": "0c7e98da-38d0-4f05-92ac-c165815d242d",
   "metadata": {},
   "outputs": [
    {
     "data": {
      "text/html": [
       "<div>\n",
       "<style scoped>\n",
       "    .dataframe tbody tr th:only-of-type {\n",
       "        vertical-align: middle;\n",
       "    }\n",
       "\n",
       "    .dataframe tbody tr th {\n",
       "        vertical-align: top;\n",
       "    }\n",
       "\n",
       "    .dataframe thead th {\n",
       "        text-align: right;\n",
       "    }\n",
       "</style>\n",
       "<table border=\"1\" class=\"dataframe\">\n",
       "  <thead>\n",
       "    <tr style=\"text-align: right;\">\n",
       "      <th></th>\n",
       "      <th>count</th>\n",
       "      <th>unique</th>\n",
       "      <th>top</th>\n",
       "      <th>freq</th>\n",
       "    </tr>\n",
       "  </thead>\n",
       "  <tbody>\n",
       "    <tr>\n",
       "      <th>bread</th>\n",
       "      <td>5</td>\n",
       "      <td>1</td>\n",
       "      <td>True</td>\n",
       "      <td>5</td>\n",
       "    </tr>\n",
       "    <tr>\n",
       "      <th>butter</th>\n",
       "      <td>5</td>\n",
       "      <td>2</td>\n",
       "      <td>True</td>\n",
       "      <td>3</td>\n",
       "    </tr>\n",
       "    <tr>\n",
       "      <th>jam</th>\n",
       "      <td>5</td>\n",
       "      <td>2</td>\n",
       "      <td>False</td>\n",
       "      <td>3</td>\n",
       "    </tr>\n",
       "    <tr>\n",
       "      <th>milk</th>\n",
       "      <td>5</td>\n",
       "      <td>2</td>\n",
       "      <td>True</td>\n",
       "      <td>3</td>\n",
       "    </tr>\n",
       "  </tbody>\n",
       "</table>\n",
       "</div>"
      ],
      "text/plain": [
       "       count unique    top freq\n",
       "bread      5      1   True    5\n",
       "butter     5      2   True    3\n",
       "jam        5      2  False    3\n",
       "milk       5      2   True    3"
      ]
     },
     "execution_count": 36,
     "metadata": {},
     "output_type": "execute_result"
    }
   ],
   "source": [
    "df.describe().T"
   ]
  },
  {
   "cell_type": "markdown",
   "id": "4bfc71f4-c480-44bc-8c97-3c94cdb90ecd",
   "metadata": {},
   "source": [
    "# Step 3\n",
    "## Applying Apriori Algo to find frequent items"
   ]
  },
  {
   "cell_type": "code",
   "execution_count": 37,
   "id": "916c6051-b722-48e7-8298-04a04d91d2c5",
   "metadata": {},
   "outputs": [],
   "source": [
    "items = apriori(df,min_support = 0.6, use_colnames = True)"
   ]
  },
  {
   "cell_type": "markdown",
   "id": "4c901e2a-fc65-4f5a-93c0-61bd60786152",
   "metadata": {},
   "source": [
    "## Generating Association Rules "
   ]
  },
  {
   "cell_type": "code",
   "execution_count": 38,
   "id": "11183e52-27be-4c96-bcf6-31b50981dc95",
   "metadata": {},
   "outputs": [
    {
     "name": "stderr",
     "output_type": "stream",
     "text": [
      "C:\\Users\\ASIF MANZOOR\\AppData\\Roaming\\Python\\Python312\\site-packages\\mlxtend\\frequent_patterns\\association_rules.py:186: RuntimeWarning: invalid value encountered in divide\n",
      "  cert_metric = np.where(certainty_denom == 0, 0, certainty_num / certainty_denom)\n"
     ]
    }
   ],
   "source": [
    "rules = association_rules(items, metric = 'confidence', min_threshold = 0.7)"
   ]
  },
  {
   "cell_type": "markdown",
   "id": "e1160659-8365-4a15-9491-9d56deada28c",
   "metadata": {},
   "source": [
    "## Show the rules"
   ]
  },
  {
   "cell_type": "code",
   "execution_count": 39,
   "id": "18d6d077-7731-4d38-ae2b-90e5789a71bf",
   "metadata": {},
   "outputs": [
    {
     "name": "stdout",
     "output_type": "stream",
     "text": [
      "   support         itemsets\n",
      "0      1.0          (bread)\n",
      "1      0.6         (butter)\n",
      "2      0.6           (milk)\n",
      "3      0.6  (butter, bread)\n",
      "4      0.6    (milk, bread)\n"
     ]
    }
   ],
   "source": [
    "print(items)"
   ]
  },
  {
   "cell_type": "code",
   "execution_count": 41,
   "id": "9ea8e66b-3d6c-4e6c-bfcc-342d99bf229f",
   "metadata": {},
   "outputs": [
    {
     "data": {
      "text/html": [
       "<div>\n",
       "<style scoped>\n",
       "    .dataframe tbody tr th:only-of-type {\n",
       "        vertical-align: middle;\n",
       "    }\n",
       "\n",
       "    .dataframe tbody tr th {\n",
       "        vertical-align: top;\n",
       "    }\n",
       "\n",
       "    .dataframe thead th {\n",
       "        text-align: right;\n",
       "    }\n",
       "</style>\n",
       "<table border=\"1\" class=\"dataframe\">\n",
       "  <thead>\n",
       "    <tr style=\"text-align: right;\">\n",
       "      <th></th>\n",
       "      <th>antecedents</th>\n",
       "      <th>consequents</th>\n",
       "      <th>antecedent support</th>\n",
       "      <th>consequent support</th>\n",
       "      <th>support</th>\n",
       "      <th>confidence</th>\n",
       "      <th>lift</th>\n",
       "      <th>representativity</th>\n",
       "      <th>leverage</th>\n",
       "      <th>conviction</th>\n",
       "      <th>zhangs_metric</th>\n",
       "      <th>jaccard</th>\n",
       "      <th>certainty</th>\n",
       "      <th>kulczynski</th>\n",
       "    </tr>\n",
       "  </thead>\n",
       "  <tbody>\n",
       "    <tr>\n",
       "      <th>0</th>\n",
       "      <td>(butter)</td>\n",
       "      <td>(bread)</td>\n",
       "      <td>0.6</td>\n",
       "      <td>1.0</td>\n",
       "      <td>0.6</td>\n",
       "      <td>1.0</td>\n",
       "      <td>1.0</td>\n",
       "      <td>1.0</td>\n",
       "      <td>0.0</td>\n",
       "      <td>inf</td>\n",
       "      <td>0.0</td>\n",
       "      <td>0.6</td>\n",
       "      <td>0.0</td>\n",
       "      <td>0.8</td>\n",
       "    </tr>\n",
       "    <tr>\n",
       "      <th>1</th>\n",
       "      <td>(milk)</td>\n",
       "      <td>(bread)</td>\n",
       "      <td>0.6</td>\n",
       "      <td>1.0</td>\n",
       "      <td>0.6</td>\n",
       "      <td>1.0</td>\n",
       "      <td>1.0</td>\n",
       "      <td>1.0</td>\n",
       "      <td>0.0</td>\n",
       "      <td>inf</td>\n",
       "      <td>0.0</td>\n",
       "      <td>0.6</td>\n",
       "      <td>0.0</td>\n",
       "      <td>0.8</td>\n",
       "    </tr>\n",
       "  </tbody>\n",
       "</table>\n",
       "</div>"
      ],
      "text/plain": [
       "  antecedents consequents  antecedent support  consequent support  support  \\\n",
       "0    (butter)     (bread)                 0.6                 1.0      0.6   \n",
       "1      (milk)     (bread)                 0.6                 1.0      0.6   \n",
       "\n",
       "   confidence  lift  representativity  leverage  conviction  zhangs_metric  \\\n",
       "0         1.0   1.0               1.0       0.0         inf            0.0   \n",
       "1         1.0   1.0               1.0       0.0         inf            0.0   \n",
       "\n",
       "   jaccard  certainty  kulczynski  \n",
       "0      0.6        0.0         0.8  \n",
       "1      0.6        0.0         0.8  "
      ]
     },
     "execution_count": 41,
     "metadata": {},
     "output_type": "execute_result"
    }
   ],
   "source": [
    "rules"
   ]
  },
  {
   "cell_type": "code",
   "execution_count": null,
   "id": "48354746-e868-4876-b8cc-5e847f7a7ee5",
   "metadata": {},
   "outputs": [],
   "source": []
  },
  {
   "cell_type": "code",
   "execution_count": null,
   "id": "248f5e22-fa30-4cda-9fe8-a9e23537a6b6",
   "metadata": {},
   "outputs": [],
   "source": []
  },
  {
   "cell_type": "markdown",
   "id": "bff40eb5-b231-4d23-901f-93227f41b54c",
   "metadata": {},
   "source": [
    "# UNSUPERVISED ALGORITHMS\n",
    "## Association Rule mining (e.g MBA (MARKET BASKET ANALYSIS)\n",
    "### APRIORI ALGORITHM ON Retail Dataset"
   ]
  },
  {
   "cell_type": "markdown",
   "id": "4c9f3845-01f2-4c52-9133-ad2f3924b1f4",
   "metadata": {},
   "source": [
    "## Step 1\n",
    "## Importing Libraries"
   ]
  },
  {
   "cell_type": "code",
   "execution_count": 2,
   "id": "4a57c44c-d95d-4eca-97cd-6749ccc83709",
   "metadata": {},
   "outputs": [],
   "source": [
    "import pandas as pd\n",
    "import matplotlib.pyplot as plt\n",
    "from mlxtend.preprocessing import TransactionEncoder\n",
    "from mlxtend.frequent_patterns import apriori, association_rules"
   ]
  },
  {
   "cell_type": "markdown",
   "id": "d99f8219-98f8-4bac-9a91-0f6be2272595",
   "metadata": {},
   "source": [
    "# Step 2\n",
    "## Imorting Dataset"
   ]
  },
  {
   "cell_type": "code",
   "execution_count": 3,
   "id": "3485dad7-0587-4056-afbb-55e2b901dbba",
   "metadata": {},
   "outputs": [],
   "source": [
    "data = pd.read_csv(\"online_retail.csv\")"
   ]
  },
  {
   "cell_type": "markdown",
   "id": "b89a7490-c1e0-4501-9d20-7e116cce6886",
   "metadata": {},
   "source": [
    "# Step 3\n",
    "## Data Exploration "
   ]
  },
  {
   "cell_type": "code",
   "execution_count": 4,
   "id": "9e846de3-d507-4ba3-a7bd-dcd82afa3b31",
   "metadata": {},
   "outputs": [
    {
     "data": {
      "text/html": [
       "<div>\n",
       "<style scoped>\n",
       "    .dataframe tbody tr th:only-of-type {\n",
       "        vertical-align: middle;\n",
       "    }\n",
       "\n",
       "    .dataframe tbody tr th {\n",
       "        vertical-align: top;\n",
       "    }\n",
       "\n",
       "    .dataframe thead th {\n",
       "        text-align: right;\n",
       "    }\n",
       "</style>\n",
       "<table border=\"1\" class=\"dataframe\">\n",
       "  <thead>\n",
       "    <tr style=\"text-align: right;\">\n",
       "      <th></th>\n",
       "      <th>InvoiceNo</th>\n",
       "      <th>StockCode</th>\n",
       "      <th>Description</th>\n",
       "      <th>Quantity</th>\n",
       "      <th>InvoiceDate</th>\n",
       "      <th>UnitPrice</th>\n",
       "      <th>CustomerID</th>\n",
       "      <th>Country</th>\n",
       "    </tr>\n",
       "  </thead>\n",
       "  <tbody>\n",
       "    <tr>\n",
       "      <th>0</th>\n",
       "      <td>536365</td>\n",
       "      <td>85123A</td>\n",
       "      <td>WHITE HANGING HEART T-LIGHT HOLDER</td>\n",
       "      <td>6</td>\n",
       "      <td>2010-12-01 08:26:00</td>\n",
       "      <td>2.55</td>\n",
       "      <td>17850.0</td>\n",
       "      <td>United Kingdom</td>\n",
       "    </tr>\n",
       "    <tr>\n",
       "      <th>1</th>\n",
       "      <td>536365</td>\n",
       "      <td>71053</td>\n",
       "      <td>WHITE METAL LANTERN</td>\n",
       "      <td>6</td>\n",
       "      <td>2010-12-01 08:26:00</td>\n",
       "      <td>3.39</td>\n",
       "      <td>17850.0</td>\n",
       "      <td>United Kingdom</td>\n",
       "    </tr>\n",
       "    <tr>\n",
       "      <th>2</th>\n",
       "      <td>536365</td>\n",
       "      <td>84406B</td>\n",
       "      <td>CREAM CUPID HEARTS COAT HANGER</td>\n",
       "      <td>8</td>\n",
       "      <td>2010-12-01 08:26:00</td>\n",
       "      <td>2.75</td>\n",
       "      <td>17850.0</td>\n",
       "      <td>United Kingdom</td>\n",
       "    </tr>\n",
       "    <tr>\n",
       "      <th>3</th>\n",
       "      <td>536365</td>\n",
       "      <td>84029G</td>\n",
       "      <td>KNITTED UNION FLAG HOT WATER BOTTLE</td>\n",
       "      <td>6</td>\n",
       "      <td>2010-12-01 08:26:00</td>\n",
       "      <td>3.39</td>\n",
       "      <td>17850.0</td>\n",
       "      <td>United Kingdom</td>\n",
       "    </tr>\n",
       "    <tr>\n",
       "      <th>4</th>\n",
       "      <td>536365</td>\n",
       "      <td>84029E</td>\n",
       "      <td>RED WOOLLY HOTTIE WHITE HEART.</td>\n",
       "      <td>6</td>\n",
       "      <td>2010-12-01 08:26:00</td>\n",
       "      <td>3.39</td>\n",
       "      <td>17850.0</td>\n",
       "      <td>United Kingdom</td>\n",
       "    </tr>\n",
       "  </tbody>\n",
       "</table>\n",
       "</div>"
      ],
      "text/plain": [
       "  InvoiceNo StockCode                          Description  Quantity  \\\n",
       "0    536365    85123A   WHITE HANGING HEART T-LIGHT HOLDER         6   \n",
       "1    536365     71053                  WHITE METAL LANTERN         6   \n",
       "2    536365    84406B       CREAM CUPID HEARTS COAT HANGER         8   \n",
       "3    536365    84029G  KNITTED UNION FLAG HOT WATER BOTTLE         6   \n",
       "4    536365    84029E       RED WOOLLY HOTTIE WHITE HEART.         6   \n",
       "\n",
       "           InvoiceDate  UnitPrice  CustomerID         Country  \n",
       "0  2010-12-01 08:26:00       2.55     17850.0  United Kingdom  \n",
       "1  2010-12-01 08:26:00       3.39     17850.0  United Kingdom  \n",
       "2  2010-12-01 08:26:00       2.75     17850.0  United Kingdom  \n",
       "3  2010-12-01 08:26:00       3.39     17850.0  United Kingdom  \n",
       "4  2010-12-01 08:26:00       3.39     17850.0  United Kingdom  "
      ]
     },
     "execution_count": 4,
     "metadata": {},
     "output_type": "execute_result"
    }
   ],
   "source": [
    "data.head()"
   ]
  },
  {
   "cell_type": "code",
   "execution_count": 5,
   "id": "21532b9f-2ed1-446e-b12c-bc8a9a5aab15",
   "metadata": {},
   "outputs": [
    {
     "data": {
      "text/html": [
       "<div>\n",
       "<style scoped>\n",
       "    .dataframe tbody tr th:only-of-type {\n",
       "        vertical-align: middle;\n",
       "    }\n",
       "\n",
       "    .dataframe tbody tr th {\n",
       "        vertical-align: top;\n",
       "    }\n",
       "\n",
       "    .dataframe thead th {\n",
       "        text-align: right;\n",
       "    }\n",
       "</style>\n",
       "<table border=\"1\" class=\"dataframe\">\n",
       "  <thead>\n",
       "    <tr style=\"text-align: right;\">\n",
       "      <th></th>\n",
       "      <th>InvoiceNo</th>\n",
       "      <th>StockCode</th>\n",
       "      <th>Description</th>\n",
       "      <th>Quantity</th>\n",
       "      <th>InvoiceDate</th>\n",
       "      <th>UnitPrice</th>\n",
       "      <th>CustomerID</th>\n",
       "      <th>Country</th>\n",
       "    </tr>\n",
       "  </thead>\n",
       "  <tbody>\n",
       "    <tr>\n",
       "      <th>541904</th>\n",
       "      <td>581587</td>\n",
       "      <td>22613</td>\n",
       "      <td>PACK OF 20 SPACEBOY NAPKINS</td>\n",
       "      <td>12</td>\n",
       "      <td>2011-12-09 12:50:00</td>\n",
       "      <td>0.85</td>\n",
       "      <td>12680.0</td>\n",
       "      <td>France</td>\n",
       "    </tr>\n",
       "    <tr>\n",
       "      <th>541905</th>\n",
       "      <td>581587</td>\n",
       "      <td>22899</td>\n",
       "      <td>CHILDREN'S APRON DOLLY GIRL</td>\n",
       "      <td>6</td>\n",
       "      <td>2011-12-09 12:50:00</td>\n",
       "      <td>2.10</td>\n",
       "      <td>12680.0</td>\n",
       "      <td>France</td>\n",
       "    </tr>\n",
       "    <tr>\n",
       "      <th>541906</th>\n",
       "      <td>581587</td>\n",
       "      <td>23254</td>\n",
       "      <td>CHILDRENS CUTLERY DOLLY GIRL</td>\n",
       "      <td>4</td>\n",
       "      <td>2011-12-09 12:50:00</td>\n",
       "      <td>4.15</td>\n",
       "      <td>12680.0</td>\n",
       "      <td>France</td>\n",
       "    </tr>\n",
       "    <tr>\n",
       "      <th>541907</th>\n",
       "      <td>581587</td>\n",
       "      <td>23255</td>\n",
       "      <td>CHILDRENS CUTLERY CIRCUS PARADE</td>\n",
       "      <td>4</td>\n",
       "      <td>2011-12-09 12:50:00</td>\n",
       "      <td>4.15</td>\n",
       "      <td>12680.0</td>\n",
       "      <td>France</td>\n",
       "    </tr>\n",
       "    <tr>\n",
       "      <th>541908</th>\n",
       "      <td>581587</td>\n",
       "      <td>22138</td>\n",
       "      <td>BAKING SET 9 PIECE RETROSPOT</td>\n",
       "      <td>3</td>\n",
       "      <td>2011-12-09 12:50:00</td>\n",
       "      <td>4.95</td>\n",
       "      <td>12680.0</td>\n",
       "      <td>France</td>\n",
       "    </tr>\n",
       "  </tbody>\n",
       "</table>\n",
       "</div>"
      ],
      "text/plain": [
       "       InvoiceNo StockCode                      Description  Quantity  \\\n",
       "541904    581587     22613      PACK OF 20 SPACEBOY NAPKINS        12   \n",
       "541905    581587     22899     CHILDREN'S APRON DOLLY GIRL          6   \n",
       "541906    581587     23254    CHILDRENS CUTLERY DOLLY GIRL          4   \n",
       "541907    581587     23255  CHILDRENS CUTLERY CIRCUS PARADE         4   \n",
       "541908    581587     22138    BAKING SET 9 PIECE RETROSPOT          3   \n",
       "\n",
       "                InvoiceDate  UnitPrice  CustomerID Country  \n",
       "541904  2011-12-09 12:50:00       0.85     12680.0  France  \n",
       "541905  2011-12-09 12:50:00       2.10     12680.0  France  \n",
       "541906  2011-12-09 12:50:00       4.15     12680.0  France  \n",
       "541907  2011-12-09 12:50:00       4.15     12680.0  France  \n",
       "541908  2011-12-09 12:50:00       4.95     12680.0  France  "
      ]
     },
     "execution_count": 5,
     "metadata": {},
     "output_type": "execute_result"
    }
   ],
   "source": [
    "data.tail()"
   ]
  },
  {
   "cell_type": "code",
   "execution_count": 6,
   "id": "0119cbe6-7963-4934-9dab-e18381180664",
   "metadata": {},
   "outputs": [
    {
     "name": "stdout",
     "output_type": "stream",
     "text": [
      "<class 'pandas.core.frame.DataFrame'>\n",
      "RangeIndex: 541909 entries, 0 to 541908\n",
      "Data columns (total 8 columns):\n",
      " #   Column       Non-Null Count   Dtype  \n",
      "---  ------       --------------   -----  \n",
      " 0   InvoiceNo    541909 non-null  object \n",
      " 1   StockCode    541909 non-null  object \n",
      " 2   Description  540455 non-null  object \n",
      " 3   Quantity     541909 non-null  int64  \n",
      " 4   InvoiceDate  541909 non-null  object \n",
      " 5   UnitPrice    541909 non-null  float64\n",
      " 6   CustomerID   406829 non-null  float64\n",
      " 7   Country      541909 non-null  object \n",
      "dtypes: float64(2), int64(1), object(5)\n",
      "memory usage: 33.1+ MB\n"
     ]
    }
   ],
   "source": [
    "data.info()"
   ]
  },
  {
   "cell_type": "code",
   "execution_count": 7,
   "id": "2acb33af-8b97-4884-9f00-d3461475567a",
   "metadata": {},
   "outputs": [
    {
     "data": {
      "text/plain": [
       "(541909, 8)"
      ]
     },
     "execution_count": 7,
     "metadata": {},
     "output_type": "execute_result"
    }
   ],
   "source": [
    "data.shape"
   ]
  },
  {
   "cell_type": "code",
   "execution_count": 8,
   "id": "090ddf43-1f50-4ea5-8581-fe7b8346a65b",
   "metadata": {},
   "outputs": [
    {
     "data": {
      "text/html": [
       "<div>\n",
       "<style scoped>\n",
       "    .dataframe tbody tr th:only-of-type {\n",
       "        vertical-align: middle;\n",
       "    }\n",
       "\n",
       "    .dataframe tbody tr th {\n",
       "        vertical-align: top;\n",
       "    }\n",
       "\n",
       "    .dataframe thead th {\n",
       "        text-align: right;\n",
       "    }\n",
       "</style>\n",
       "<table border=\"1\" class=\"dataframe\">\n",
       "  <thead>\n",
       "    <tr style=\"text-align: right;\">\n",
       "      <th></th>\n",
       "      <th>Quantity</th>\n",
       "      <th>UnitPrice</th>\n",
       "      <th>CustomerID</th>\n",
       "    </tr>\n",
       "  </thead>\n",
       "  <tbody>\n",
       "    <tr>\n",
       "      <th>count</th>\n",
       "      <td>541909.000000</td>\n",
       "      <td>541909.000000</td>\n",
       "      <td>406829.000000</td>\n",
       "    </tr>\n",
       "    <tr>\n",
       "      <th>mean</th>\n",
       "      <td>9.552250</td>\n",
       "      <td>4.611114</td>\n",
       "      <td>15287.690570</td>\n",
       "    </tr>\n",
       "    <tr>\n",
       "      <th>std</th>\n",
       "      <td>218.081158</td>\n",
       "      <td>96.759853</td>\n",
       "      <td>1713.600303</td>\n",
       "    </tr>\n",
       "    <tr>\n",
       "      <th>min</th>\n",
       "      <td>-80995.000000</td>\n",
       "      <td>-11062.060000</td>\n",
       "      <td>12346.000000</td>\n",
       "    </tr>\n",
       "    <tr>\n",
       "      <th>25%</th>\n",
       "      <td>1.000000</td>\n",
       "      <td>1.250000</td>\n",
       "      <td>13953.000000</td>\n",
       "    </tr>\n",
       "    <tr>\n",
       "      <th>50%</th>\n",
       "      <td>3.000000</td>\n",
       "      <td>2.080000</td>\n",
       "      <td>15152.000000</td>\n",
       "    </tr>\n",
       "    <tr>\n",
       "      <th>75%</th>\n",
       "      <td>10.000000</td>\n",
       "      <td>4.130000</td>\n",
       "      <td>16791.000000</td>\n",
       "    </tr>\n",
       "    <tr>\n",
       "      <th>max</th>\n",
       "      <td>80995.000000</td>\n",
       "      <td>38970.000000</td>\n",
       "      <td>18287.000000</td>\n",
       "    </tr>\n",
       "  </tbody>\n",
       "</table>\n",
       "</div>"
      ],
      "text/plain": [
       "            Quantity      UnitPrice     CustomerID\n",
       "count  541909.000000  541909.000000  406829.000000\n",
       "mean        9.552250       4.611114   15287.690570\n",
       "std       218.081158      96.759853    1713.600303\n",
       "min    -80995.000000  -11062.060000   12346.000000\n",
       "25%         1.000000       1.250000   13953.000000\n",
       "50%         3.000000       2.080000   15152.000000\n",
       "75%        10.000000       4.130000   16791.000000\n",
       "max     80995.000000   38970.000000   18287.000000"
      ]
     },
     "execution_count": 8,
     "metadata": {},
     "output_type": "execute_result"
    }
   ],
   "source": [
    "data.describe()"
   ]
  },
  {
   "cell_type": "code",
   "execution_count": 9,
   "id": "5ae7f9a4-80a2-49f3-98f2-eb04267b6356",
   "metadata": {},
   "outputs": [
    {
     "data": {
      "text/plain": [
       "Index(['InvoiceNo', 'StockCode', 'Description', 'Quantity', 'InvoiceDate',\n",
       "       'UnitPrice', 'CustomerID', 'Country'],\n",
       "      dtype='object')"
      ]
     },
     "execution_count": 9,
     "metadata": {},
     "output_type": "execute_result"
    }
   ],
   "source": [
    "data.columns"
   ]
  },
  {
   "cell_type": "markdown",
   "id": "9d1909de-e5f7-4eeb-9cc4-29366d707686",
   "metadata": {},
   "source": [
    "# Step 4\n",
    "## Data Preprocessesing\n"
   ]
  },
  {
   "cell_type": "code",
   "execution_count": 10,
   "id": "2604aa6f-4ddb-4092-8753-4de298b73f6e",
   "metadata": {},
   "outputs": [
    {
     "data": {
      "text/plain": [
       "InvoiceNo           0\n",
       "StockCode           0\n",
       "Description      1454\n",
       "Quantity            0\n",
       "InvoiceDate         0\n",
       "UnitPrice           0\n",
       "CustomerID     135080\n",
       "Country             0\n",
       "dtype: int64"
      ]
     },
     "execution_count": 10,
     "metadata": {},
     "output_type": "execute_result"
    }
   ],
   "source": [
    "data.isnull().sum()"
   ]
  },
  {
   "cell_type": "code",
   "execution_count": 11,
   "id": "705c2d8a-8ac2-4d14-a395-b5a9dce5e01b",
   "metadata": {},
   "outputs": [],
   "source": [
    "data.dropna(inplace = True)"
   ]
  },
  {
   "cell_type": "code",
   "execution_count": 12,
   "id": "74c1ec60-cbac-402a-8717-eddba8648226",
   "metadata": {},
   "outputs": [
    {
     "data": {
      "text/plain": [
       "InvoiceNo      0\n",
       "StockCode      0\n",
       "Description    0\n",
       "Quantity       0\n",
       "InvoiceDate    0\n",
       "UnitPrice      0\n",
       "CustomerID     0\n",
       "Country        0\n",
       "dtype: int64"
      ]
     },
     "execution_count": 12,
     "metadata": {},
     "output_type": "execute_result"
    }
   ],
   "source": [
    "data.isnull().sum()"
   ]
  },
  {
   "cell_type": "code",
   "execution_count": 13,
   "id": "b776a3c0-e693-4916-b4b4-94bc37dc1cc5",
   "metadata": {},
   "outputs": [
    {
     "data": {
      "text/plain": [
       "array([     6,      8,      2,     32,      3,      4,     24,     12,\n",
       "           48,     18,     20,     36,     80,     64,     10,    120,\n",
       "           96,     23,      5,      1,     -1,     50,     40,    100,\n",
       "          192,    432,    144,    288,    -12,    -24,     16,      9,\n",
       "          128,     25,     30,     28,      7,     72,    200,    600,\n",
       "          480,     -6,     14,     -2,     -4,     -5,     -7,     -3,\n",
       "           11,     70,    252,     60,    216,    384,     27,    108,\n",
       "           52,  -9360,     75,    270,     42,    240,     90,    320,\n",
       "           17,   1824,    204,     69,    -36,   -192,   -144,    160,\n",
       "         2880,   1400,     19,     39,    -48,    -50,     56,     13,\n",
       "         1440,     -8,     15,    720,    -20,    156,    324,     41,\n",
       "          -10,    -72,    -11,    402,    378,    150,    300,     22,\n",
       "           34,    408,    972,    208,   1008,     26,   1000,    -25,\n",
       "         1488,    250,   1394,    400,    110,    -14,     37,    -33,\n",
       "           78,     -9,     21,    272,     84,    -47,    -18,    -96,\n",
       "           47,    -15,    -30,   1728,     38,    -60,    -16,     53,\n",
       "         -240,     76,    576,    -32,     29,   2400,    500,    -80,\n",
       "          180,   -300,   -500,    -23,    -13,    960,    -21,   1296,\n",
       "         -150,    -17,    147,    168,    256,    -40,   -100,     54,\n",
       "           31,    860,   1010,   1356,   1284,    186,    114,    360,\n",
       "         1930,   2000,   3114,   1300,    670,    176,    648,     62,\n",
       "        74215, -74215,     89,     33,     46,   -120,    112,    456,\n",
       "          900,   -600,    -42,    -94,     45,    130,   2592,    420,\n",
       "          800,     35,   1200,    864,    504,    -76,   -200,   1056,\n",
       "         1500,    280,    407,    141,   3906,   1152,    198,    117,\n",
       "         -720,    125,    -86,     81,    -35,    768,     88,     43,\n",
       "          700,   -102,   2160,     55,    -49,    342,    304,    640,\n",
       "          220,    350,    -46,    -64,    312,    392,   -624,    -27,\n",
       "          330,    151,   -432,    -58,     44,   -670,  -1300,  -1930,\n",
       "        -2000,  -3114,    462,     66,    492,    273,     65,     85,\n",
       "          -51,   -960,   1350,    428,  -1350,    336,    101,    132,\n",
       "          227,   2700,    222,    228,    246,    906,    756,    888,\n",
       "          552,    224,    738,    608,   4300,    276,    -52,     58,\n",
       "           98,     51,     74,   1600,    323,    -22,   1515,  -1515,\n",
       "          660,    104,   -420,    264,    188,    588,    612,    152,\n",
       "          -19,   -480,     49,   -164,   -160,    430,    701,    828,\n",
       "          540,    696,    560,   -576,   -108,   -250,   -408,    121,\n",
       "          512,    -37,    291,   3186,     83,     87,     79,   -360,\n",
       "          -28,    -75,    109,   -121,    129,    261,    352,    102,\n",
       "         -288,    348,   1900,    157,    -39,    116,    968,    684,\n",
       "          824,   -828,   -701,    196,    124,    248,    410,    236,\n",
       "          230,    210,    448,   -140,   -400,   -252,   -110,   -334,\n",
       "         -318,   -126,   -113,   -180,    140,     86,    840,    -38,\n",
       "          450,     93,    494,     92,   1788,    624,    744,    416,\n",
       "          496,    396,    306,   1878,   1944,    666,    708,   1428,\n",
       "          852,   1412,    528,   -756,   -152,    -85,    -34,   -312,\n",
       "          -79,    -43,    -31,    183,   -186,    -53,    -82,    -70,\n",
       "          -68,   1540,  -1200,   -130,   -220,    672,    -26,    -29,\n",
       "           67,   -840,  -1296,     63,     94,    255,     57,    126,\n",
       "          468,   -468,   -324,   -168,   4800,    -66,   -112,    912,\n",
       "         1992,    136,   3000,    -45,    232,    832,    992,    630,\n",
       "         1020,   2100,    162,   -162,    -67,   -276,   -184,    234,\n",
       "          244,   -244,   -234,   -132,  12540,     95,    760,    139,\n",
       "          115,    774,   2040,   1120,     59,    490,    388,    620,\n",
       "         1404,    698,  80995, -80995], dtype=int64)"
      ]
     },
     "execution_count": 13,
     "metadata": {},
     "output_type": "execute_result"
    }
   ],
   "source": [
    "data['Quantity'].unique()"
   ]
  },
  {
   "cell_type": "code",
   "execution_count": 14,
   "id": "975eec3f-fc83-4620-995d-1ee062daf3ad",
   "metadata": {},
   "outputs": [],
   "source": [
    "data = data[data[\"Quantity\"]> 0]"
   ]
  },
  {
   "cell_type": "code",
   "execution_count": 15,
   "id": "948db605-8d47-4ebb-a1b8-2cecf86c88d9",
   "metadata": {},
   "outputs": [
    {
     "data": {
      "text/plain": [
       "array([    6,     8,     2,    32,     3,     4,    24,    12,    48,\n",
       "          18,    20,    36,    80,    64,    10,   120,    96,    23,\n",
       "           5,     1,    50,    40,   100,   192,   432,   144,   288,\n",
       "          16,     9,   128,    25,    30,    28,     7,    72,   200,\n",
       "         600,   480,    14,    11,    70,   252,    60,   216,   384,\n",
       "          27,   108,    52,    75,   270,    42,   240,    90,   320,\n",
       "          17,  1824,   204,    69,   160,  2880,  1400,    19,    39,\n",
       "          56,    13,  1440,    15,   720,   156,   324,    41,   402,\n",
       "         378,   150,   300,    22,    34,   408,   972,   208,  1008,\n",
       "          26,  1000,  1488,   250,  1394,   400,   110,    37,    78,\n",
       "          21,   272,    84,    47,  1728,    38,    53,    76,   576,\n",
       "          29,  2400,   500,   180,   960,  1296,   147,   168,   256,\n",
       "          54,    31,   860,  1010,  1356,  1284,   186,   114,   360,\n",
       "        1930,  2000,  3114,  1300,   670,   176,   648,    62, 74215,\n",
       "          89,    33,    46,   112,   456,   900,    45,   130,  2592,\n",
       "         420,   800,    35,  1200,   864,   504,  1056,  1500,   280,\n",
       "         407,   141,  3906,  1152,   198,   117,   125,    81,   768,\n",
       "          88,    43,   700,  2160,    55,   342,   304,   640,   220,\n",
       "         350,   312,   392,   330,   151,    44,   462,    66,   492,\n",
       "         273,    65,    85,  1350,   428,   336,   101,   132,   227,\n",
       "        2700,   222,   228,   246,   906,   756,   888,   552,   224,\n",
       "         738,   608,  4300,   276,    58,    98,    51,    74,  1600,\n",
       "         323,  1515,   660,   104,   264,   188,   588,   612,   152,\n",
       "          49,   430,   701,   828,   540,   696,   560,   121,   512,\n",
       "         291,  3186,    83,    87,    79,   109,   129,   261,   352,\n",
       "         102,   348,  1900,   157,   116,   968,   684,   824,   196,\n",
       "         124,   248,   410,   236,   230,   210,   448,   140,    86,\n",
       "         840,   450,    93,   494,    92,  1788,   624,   744,   416,\n",
       "         496,   396,   306,  1878,  1944,   666,   708,  1428,   852,\n",
       "        1412,   528,   183,  1540,   672,    67,    63,    94,   255,\n",
       "          57,   126,   468,  4800,   912,  1992,   136,  3000,   232,\n",
       "         832,   992,   630,  1020,  2100,   162,   234,   244, 12540,\n",
       "          95,   760,   139,   115,   774,  2040,  1120,    59,   490,\n",
       "         388,   620,  1404,   698, 80995], dtype=int64)"
      ]
     },
     "execution_count": 15,
     "metadata": {},
     "output_type": "execute_result"
    }
   ],
   "source": [
    "data['Quantity'].unique()"
   ]
  },
  {
   "cell_type": "code",
   "execution_count": 16,
   "id": "9ad6e3cb-b3ff-44c8-9297-93fb9b2c2c9e",
   "metadata": {},
   "outputs": [
    {
     "data": {
      "text/plain": [
       "array(['United Kingdom', 'France', 'Australia', 'Netherlands', 'Germany',\n",
       "       'Norway', 'EIRE', 'Switzerland', 'Spain', 'Poland', 'Portugal',\n",
       "       'Italy', 'Belgium', 'Lithuania', 'Japan', 'Iceland',\n",
       "       'Channel Islands', 'Denmark', 'Cyprus', 'Sweden', 'Finland',\n",
       "       'Austria', 'Greece', 'Singapore', 'Lebanon',\n",
       "       'United Arab Emirates', 'Israel', 'Saudi Arabia', 'Czech Republic',\n",
       "       'Canada', 'Unspecified', 'Brazil', 'USA', 'European Community',\n",
       "       'Bahrain', 'Malta', 'RSA'], dtype=object)"
      ]
     },
     "execution_count": 16,
     "metadata": {},
     "output_type": "execute_result"
    }
   ],
   "source": [
    "data['Country'].unique()"
   ]
  },
  {
   "cell_type": "code",
   "execution_count": 17,
   "id": "8c005c8e-10a0-4d65-a958-296baa32236e",
   "metadata": {},
   "outputs": [],
   "source": [
    "data = data[data[\"Country\"] != 'Unspecified']"
   ]
  },
  {
   "cell_type": "code",
   "execution_count": 18,
   "id": "307c3883-fa06-4a94-9d51-e17983b64c23",
   "metadata": {},
   "outputs": [
    {
     "data": {
      "text/plain": [
       "array(['United Kingdom', 'France', 'Australia', 'Netherlands', 'Germany',\n",
       "       'Norway', 'EIRE', 'Switzerland', 'Spain', 'Poland', 'Portugal',\n",
       "       'Italy', 'Belgium', 'Lithuania', 'Japan', 'Iceland',\n",
       "       'Channel Islands', 'Denmark', 'Cyprus', 'Sweden', 'Finland',\n",
       "       'Austria', 'Greece', 'Singapore', 'Lebanon',\n",
       "       'United Arab Emirates', 'Israel', 'Saudi Arabia', 'Czech Republic',\n",
       "       'Canada', 'Brazil', 'USA', 'European Community', 'Bahrain',\n",
       "       'Malta', 'RSA'], dtype=object)"
      ]
     },
     "execution_count": 18,
     "metadata": {},
     "output_type": "execute_result"
    }
   ],
   "source": [
    "data['Country'].unique()"
   ]
  },
  {
   "cell_type": "code",
   "execution_count": 19,
   "id": "800bb8a3-6a19-49f6-88d0-9e70a9b77cb4",
   "metadata": {},
   "outputs": [
    {
     "data": {
      "text/plain": [
       "array(['2010-12-01 08:26:00', '2010-12-01 08:28:00',\n",
       "       '2010-12-01 08:34:00', ..., '2011-12-09 12:31:00',\n",
       "       '2011-12-09 12:49:00', '2011-12-09 12:50:00'], dtype=object)"
      ]
     },
     "execution_count": 19,
     "metadata": {},
     "output_type": "execute_result"
    }
   ],
   "source": [
    "data['InvoiceDate'].unique()"
   ]
  },
  {
   "cell_type": "code",
   "execution_count": 20,
   "id": "27da76ab-1101-41d1-a88c-4c5abac1a58e",
   "metadata": {},
   "outputs": [
    {
     "name": "stderr",
     "output_type": "stream",
     "text": [
      "C:\\Users\\ASIF MANZOOR\\AppData\\Local\\Temp\\ipykernel_63984\\3440468580.py:3: FutureWarning: DataFrame.applymap has been deprecated. Use DataFrame.map instead.\n",
      "  basket = basket.applymap(lambda x:1 if x>0 else 0)\n"
     ]
    }
   ],
   "source": [
    "basket = data.groupby(['InvoiceDate', 'Description'])['Quantity'].sum().unstack().fillna(0)\n",
    "\n",
    "basket = basket.applymap(lambda x:1 if x>0 else 0)"
   ]
  },
  {
   "cell_type": "code",
   "execution_count": 21,
   "id": "2b534f17-70c6-4a8e-94f3-1c3adff96d58",
   "metadata": {},
   "outputs": [
    {
     "data": {
      "text/plain": [
       "array([    6,     8,     2,    32,     3,     4,    24,    12,    48,\n",
       "          18,    20,    36,    80,    64,    10,   120,    96,    23,\n",
       "           5,     1,    50,    40,   100,   192,   432,   144,   288,\n",
       "          16,     9,   128,    25,    30,    28,     7,    72,   200,\n",
       "         600,   480,    14,    11,    70,   252,    60,   216,   384,\n",
       "          27,   108,    52,    75,   270,    42,   240,    90,   320,\n",
       "          17,  1824,   204,    69,   160,  2880,  1400,    19,    39,\n",
       "          56,    13,  1440,    15,   720,   156,   324,    41,   402,\n",
       "         378,   150,   300,    22,    34,   408,   972,   208,  1008,\n",
       "          26,  1000,  1488,   250,  1394,   400,   110,    37,    78,\n",
       "          21,   272,    84,    47,  1728,    38,    53,    76,   576,\n",
       "          29,  2400,   500,   180,   960,  1296,   147,   168,   256,\n",
       "          54,    31,   860,  1010,  1356,  1284,   186,   114,   360,\n",
       "        1930,  2000,  3114,  1300,   670,   176,   648,    62, 74215,\n",
       "          89,    33,    46,   112,   456,   900,    45,   130,  2592,\n",
       "         420,   800,    35,  1200,   864,   504,  1056,  1500,   280,\n",
       "         407,   141,  3906,  1152,   198,   117,   125,    81,   768,\n",
       "          88,    43,   700,  2160,    55,   342,   304,   640,   220,\n",
       "         350,   312,   392,   330,   151,    44,   462,    66,   492,\n",
       "         273,    65,    85,  1350,   428,   336,   101,   132,   227,\n",
       "        2700,   222,   228,   246,   906,   756,   888,   552,   224,\n",
       "         738,   608,  4300,   276,    58,    98,    51,    74,  1600,\n",
       "         323,  1515,   660,   104,   264,   188,   588,   612,   152,\n",
       "          49,   430,   701,   828,   540,   696,   560,   121,   512,\n",
       "         291,  3186,    83,    87,    79,   109,   129,   261,   352,\n",
       "         102,   348,  1900,   157,   116,   968,   684,   824,   196,\n",
       "         124,   248,   410,   236,   230,   210,   448,   140,    86,\n",
       "         840,   450,    93,   494,    92,  1788,   624,   744,   416,\n",
       "         496,   396,   306,  1878,  1944,   666,   708,  1428,   852,\n",
       "        1412,   528,   183,  1540,   672,    67,    63,    94,   255,\n",
       "          57,   126,   468,  4800,   912,  1992,   136,  3000,   232,\n",
       "         832,   992,   630,  1020,  2100,   162,   234,   244, 12540,\n",
       "          95,   760,   139,   115,   774,  2040,  1120,    59,   490,\n",
       "         388,   620,  1404,   698, 80995], dtype=int64)"
      ]
     },
     "execution_count": 21,
     "metadata": {},
     "output_type": "execute_result"
    }
   ],
   "source": [
    "data['Quantity'].unique()\n"
   ]
  },
  {
   "cell_type": "code",
   "execution_count": 22,
   "id": "8acf829c-59fd-4221-ae4f-cbf29df6867a",
   "metadata": {},
   "outputs": [
    {
     "data": {
      "text/plain": [
       "array(['WHITE HANGING HEART T-LIGHT HOLDER', 'WHITE METAL LANTERN',\n",
       "       'CREAM CUPID HEARTS COAT HANGER', ...,\n",
       "       'PINK CRYSTAL SKULL PHONE CHARM',\n",
       "       'CREAM HANGING HEART T-LIGHT HOLDER',\n",
       "       'PAPER CRAFT , LITTLE BIRDIE'], dtype=object)"
      ]
     },
     "execution_count": 22,
     "metadata": {},
     "output_type": "execute_result"
    }
   ],
   "source": [
    "data['Description'].unique()"
   ]
  },
  {
   "cell_type": "code",
   "execution_count": null,
   "id": "693dfa6b-d4f7-4461-8b38-d151ca361ed6",
   "metadata": {},
   "outputs": [],
   "source": []
  },
  {
   "cell_type": "markdown",
   "id": "3ce4a621-c866-4f7a-bf7e-7b1da85be5fb",
   "metadata": {},
   "source": [
    "\n",
    "## Applying Apriori Algo "
   ]
  },
  {
   "cell_type": "code",
   "execution_count": 23,
   "id": "eca0f432-c748-4154-a7c3-1b75a6f2e0dd",
   "metadata": {},
   "outputs": [
    {
     "name": "stderr",
     "output_type": "stream",
     "text": [
      "C:\\Users\\ASIF MANZOOR\\AppData\\Roaming\\Python\\Python312\\site-packages\\mlxtend\\frequent_patterns\\fpcommon.py:161: DeprecationWarning: DataFrames with non-bool types result in worse computationalperformance and their support might be discontinued in the future.Please use a DataFrame with bool type\n",
      "  warnings.warn(\n"
     ]
    }
   ],
   "source": [
    "from mlxtend.frequent_patterns import apriori, association_rules\n",
    "\n",
    "frequent_items = apriori(basket,min_support=0.02, use_colnames=True)"
   ]
  },
  {
   "cell_type": "code",
   "execution_count": 24,
   "id": "441db327-82a6-403e-9028-f6e58d5fd791",
   "metadata": {},
   "outputs": [
    {
     "data": {
      "text/html": [
       "<div>\n",
       "<style scoped>\n",
       "    .dataframe tbody tr th:only-of-type {\n",
       "        vertical-align: middle;\n",
       "    }\n",
       "\n",
       "    .dataframe tbody tr th {\n",
       "        vertical-align: top;\n",
       "    }\n",
       "\n",
       "    .dataframe thead th {\n",
       "        text-align: right;\n",
       "    }\n",
       "</style>\n",
       "<table border=\"1\" class=\"dataframe\">\n",
       "  <thead>\n",
       "    <tr style=\"text-align: right;\">\n",
       "      <th></th>\n",
       "      <th>support</th>\n",
       "      <th>itemsets</th>\n",
       "    </tr>\n",
       "  </thead>\n",
       "  <tbody>\n",
       "    <tr>\n",
       "      <th>0</th>\n",
       "      <td>0.023092</td>\n",
       "      <td>(3 STRIPEY MICE FELTCRAFT)</td>\n",
       "    </tr>\n",
       "    <tr>\n",
       "      <th>1</th>\n",
       "      <td>0.020892</td>\n",
       "      <td>(4 TRADITIONAL SPINNING TOPS)</td>\n",
       "    </tr>\n",
       "    <tr>\n",
       "      <th>2</th>\n",
       "      <td>0.041901</td>\n",
       "      <td>(6 RIBBONS RUSTIC CHARM)</td>\n",
       "    </tr>\n",
       "    <tr>\n",
       "      <th>3</th>\n",
       "      <td>0.020487</td>\n",
       "      <td>(60 CAKE CASES DOLLY GIRL DESIGN)</td>\n",
       "    </tr>\n",
       "    <tr>\n",
       "      <th>4</th>\n",
       "      <td>0.026738</td>\n",
       "      <td>(60 CAKE CASES VINTAGE CHRISTMAS)</td>\n",
       "    </tr>\n",
       "  </tbody>\n",
       "</table>\n",
       "</div>"
      ],
      "text/plain": [
       "    support                           itemsets\n",
       "0  0.023092         (3 STRIPEY MICE FELTCRAFT)\n",
       "1  0.020892      (4 TRADITIONAL SPINNING TOPS)\n",
       "2  0.041901           (6 RIBBONS RUSTIC CHARM)\n",
       "3  0.020487  (60 CAKE CASES DOLLY GIRL DESIGN)\n",
       "4  0.026738  (60 CAKE CASES VINTAGE CHRISTMAS)"
      ]
     },
     "execution_count": 24,
     "metadata": {},
     "output_type": "execute_result"
    }
   ],
   "source": [
    "frequent_items.head()"
   ]
  },
  {
   "cell_type": "code",
   "execution_count": 25,
   "id": "25ddce37-3f1d-4cc5-a8d3-c683e6e152cc",
   "metadata": {},
   "outputs": [
    {
     "name": "stdout",
     "output_type": "stream",
     "text": [
      "      support                                           itemsets\n",
      "33   0.020024                   (CHRISTMAS CRAFT TREE TOP ANGEL)\n",
      "156  0.020024                        (POPPY'S PLAYHOUSE KITCHEN)\n",
      "215  0.020082                  (VINTAGE DOILY TRAVEL SEWING KIT)\n",
      "255  0.020082      (LUNCH BAG WOODLAND, LUNCH BAG  BLACK SKULL.)\n",
      "121  0.020082                     (MEMO BOARD RETROSPOT  DESIGN)\n",
      "183  0.020140                       (SET OF 10 LED DOLLY LIGHTS)\n",
      "22   0.020198                  (BLUE STRIPE CERAMIC DRAWER KNOB)\n",
      "175  0.020198                            (REGENCY TEAPOT ROSES )\n",
      "122  0.020198                  (METAL SIGN TAKE IT OR LEAVE IT )\n",
      "246  0.020198  (JUMBO BAG RED RETROSPOT, JUMBO BAG VINTAGE LEAF)\n"
     ]
    }
   ],
   "source": [
    "#sort\n",
    "print(frequent_items.sort_values(by='support',ascending = True).head(10))"
   ]
  },
  {
   "cell_type": "code",
   "execution_count": 26,
   "id": "ba010a35-4e97-4ac9-8f2a-e4622d56a518",
   "metadata": {},
   "outputs": [
    {
     "name": "stdout",
     "output_type": "stream",
     "text": [
      "      support                              itemsets\n",
      "219  0.113085  (WHITE HANGING HEART T-LIGHT HOLDER)\n",
      "174  0.097749            (REGENCY CAKESTAND 3 TIER)\n",
      "92   0.091903             (JUMBO BAG RED RETROSPOT)\n",
      "140  0.079345                       (PARTY BUNTING)\n",
      "14   0.078824       (ASSORTED COLOUR BIRD ORNAMENT)\n",
      "114  0.073789             (LUNCH BAG RED RETROSPOT)\n",
      "189  0.065976   (SET OF 3 CAKE TINS PANTRY DESIGN )\n",
      "157  0.063024                             (POSTAGE)\n",
      "107  0.060652             (LUNCH BAG  BLACK SKULL.)\n",
      "131  0.059378     (PACK OF 72 RETROSPOT CAKE CASES)\n"
     ]
    }
   ],
   "source": [
    "#sort\n",
    "print(frequent_items.sort_values(by='support',ascending = False).head(10))"
   ]
  },
  {
   "cell_type": "code",
   "execution_count": 27,
   "id": "bba95427-b3ec-45c8-8250-b413b6befd96",
   "metadata": {},
   "outputs": [],
   "source": [
    "rules = association_rules(frequent_items, metric = 'confidence', min_threshold = 0.8)"
   ]
  },
  {
   "cell_type": "code",
   "execution_count": 28,
   "id": "7eef41ea-92c4-40bc-95da-e0359b2f692e",
   "metadata": {},
   "outputs": [
    {
     "data": {
      "text/html": [
       "<div>\n",
       "<style scoped>\n",
       "    .dataframe tbody tr th:only-of-type {\n",
       "        vertical-align: middle;\n",
       "    }\n",
       "\n",
       "    .dataframe tbody tr th {\n",
       "        vertical-align: top;\n",
       "    }\n",
       "\n",
       "    .dataframe thead th {\n",
       "        text-align: right;\n",
       "    }\n",
       "</style>\n",
       "<table border=\"1\" class=\"dataframe\">\n",
       "  <thead>\n",
       "    <tr style=\"text-align: right;\">\n",
       "      <th></th>\n",
       "      <th>antecedents</th>\n",
       "      <th>consequents</th>\n",
       "      <th>antecedent support</th>\n",
       "      <th>consequent support</th>\n",
       "      <th>support</th>\n",
       "      <th>confidence</th>\n",
       "      <th>lift</th>\n",
       "      <th>representativity</th>\n",
       "      <th>leverage</th>\n",
       "      <th>conviction</th>\n",
       "      <th>zhangs_metric</th>\n",
       "      <th>jaccard</th>\n",
       "      <th>certainty</th>\n",
       "      <th>kulczynski</th>\n",
       "    </tr>\n",
       "  </thead>\n",
       "  <tbody>\n",
       "    <tr>\n",
       "      <th>0</th>\n",
       "      <td>(PINK REGENCY TEACUP AND SAUCER)</td>\n",
       "      <td>(GREEN REGENCY TEACUP AND SAUCER)</td>\n",
       "      <td>0.032178</td>\n",
       "      <td>0.039875</td>\n",
       "      <td>0.026622</td>\n",
       "      <td>0.827338</td>\n",
       "      <td>20.748295</td>\n",
       "      <td>1.0</td>\n",
       "      <td>0.025339</td>\n",
       "      <td>5.560724</td>\n",
       "      <td>0.983448</td>\n",
       "      <td>0.585987</td>\n",
       "      <td>0.820167</td>\n",
       "      <td>0.747486</td>\n",
       "    </tr>\n",
       "    <tr>\n",
       "      <th>1</th>\n",
       "      <td>(GREEN REGENCY TEACUP AND SAUCER, PINK REGENCY...</td>\n",
       "      <td>(ROSES REGENCY TEACUP AND SAUCER )</td>\n",
       "      <td>0.026622</td>\n",
       "      <td>0.044968</td>\n",
       "      <td>0.022571</td>\n",
       "      <td>0.847826</td>\n",
       "      <td>18.854037</td>\n",
       "      <td>1.0</td>\n",
       "      <td>0.021374</td>\n",
       "      <td>6.275925</td>\n",
       "      <td>0.972860</td>\n",
       "      <td>0.460449</td>\n",
       "      <td>0.840661</td>\n",
       "      <td>0.674878</td>\n",
       "    </tr>\n",
       "    <tr>\n",
       "      <th>2</th>\n",
       "      <td>(ROSES REGENCY TEACUP AND SAUCER , PINK REGENC...</td>\n",
       "      <td>(GREEN REGENCY TEACUP AND SAUCER)</td>\n",
       "      <td>0.025233</td>\n",
       "      <td>0.039875</td>\n",
       "      <td>0.022571</td>\n",
       "      <td>0.894495</td>\n",
       "      <td>22.432491</td>\n",
       "      <td>1.0</td>\n",
       "      <td>0.021565</td>\n",
       "      <td>9.100315</td>\n",
       "      <td>0.980154</td>\n",
       "      <td>0.530612</td>\n",
       "      <td>0.890114</td>\n",
       "      <td>0.730267</td>\n",
       "    </tr>\n",
       "  </tbody>\n",
       "</table>\n",
       "</div>"
      ],
      "text/plain": [
       "                                         antecedents  \\\n",
       "0                   (PINK REGENCY TEACUP AND SAUCER)   \n",
       "1  (GREEN REGENCY TEACUP AND SAUCER, PINK REGENCY...   \n",
       "2  (ROSES REGENCY TEACUP AND SAUCER , PINK REGENC...   \n",
       "\n",
       "                          consequents  antecedent support  consequent support  \\\n",
       "0   (GREEN REGENCY TEACUP AND SAUCER)            0.032178            0.039875   \n",
       "1  (ROSES REGENCY TEACUP AND SAUCER )            0.026622            0.044968   \n",
       "2   (GREEN REGENCY TEACUP AND SAUCER)            0.025233            0.039875   \n",
       "\n",
       "    support  confidence       lift  representativity  leverage  conviction  \\\n",
       "0  0.026622    0.827338  20.748295               1.0  0.025339    5.560724   \n",
       "1  0.022571    0.847826  18.854037               1.0  0.021374    6.275925   \n",
       "2  0.022571    0.894495  22.432491               1.0  0.021565    9.100315   \n",
       "\n",
       "   zhangs_metric   jaccard  certainty  kulczynski  \n",
       "0       0.983448  0.585987   0.820167    0.747486  \n",
       "1       0.972860  0.460449   0.840661    0.674878  \n",
       "2       0.980154  0.530612   0.890114    0.730267  "
      ]
     },
     "execution_count": 28,
     "metadata": {},
     "output_type": "execute_result"
    }
   ],
   "source": [
    "rules.head()"
   ]
  },
  {
   "cell_type": "code",
   "execution_count": 29,
   "id": "a059d793-0486-4a34-882f-16fb9aa76631",
   "metadata": {},
   "outputs": [
    {
     "name": "stdout",
     "output_type": "stream",
     "text": [
      "                                         antecedents  \\\n",
      "2  (ROSES REGENCY TEACUP AND SAUCER , PINK REGENC...   \n",
      "1  (GREEN REGENCY TEACUP AND SAUCER, PINK REGENCY...   \n",
      "0                   (PINK REGENCY TEACUP AND SAUCER)   \n",
      "\n",
      "                          consequents   support  confidence       lift  \n",
      "2   (GREEN REGENCY TEACUP AND SAUCER)  0.022571    0.894495  22.432491  \n",
      "1  (ROSES REGENCY TEACUP AND SAUCER )  0.022571    0.847826  18.854037  \n",
      "0   (GREEN REGENCY TEACUP AND SAUCER)  0.026622    0.827338  20.748295  \n"
     ]
    }
   ],
   "source": [
    "print(rules[['antecedents','consequents','support', 'confidence','lift']].sort_values(by='confidence', ascending = False).head())"
   ]
  },
  {
   "cell_type": "code",
   "execution_count": 32,
   "id": "3263016d-f985-4bd4-9bef-00b956f553a8",
   "metadata": {},
   "outputs": [
    {
     "data": {
      "image/png": "[encoded data removed]",
      "text/plain": [
       "<Figure size 1000x500 with 1 Axes>"
      ]
     },
     "metadata": {},
     "output_type": "display_data"
    }
   ],
   "source": [
    "#Visualization\n",
    "import matplotlib.pyplot as plt\n",
    "\n",
    "top_items= frequent_items.sort_values(by='support',ascending = False).head(10)\n",
    "top_items['itemsets']= top_items['itemsets'].apply(lambda x: ','.join(list(x)))\n",
    "plt.figure(figsize=(10,5))\n",
    "plt.barh(top_items['itemsets'], top_items['support'], color ='red')\n",
    "plt.xlabel(\"Support\")\n",
    "plt.ylabel(\"itemsets\")\n",
    "plt.title(\"Top 10 Frequent items\")\n",
    "plt.show()"
   ]
  },
  {
   "cell_type": "code",
   "execution_count": 35,
   "id": "227780d5-34a2-4b84-8ab4-14fa7d417927",
   "metadata": {},
   "outputs": [
    {
     "data": {
      "image/png": "[encoded data removed]",
      "text/plain": [
       "<Figure size 800x600 with 1 Axes>"
      ]
     },
     "metadata": {},
     "output_type": "display_data"
    }
   ],
   "source": [
    "#support vs confidence\n",
    "import seaborn as sns\n",
    "plt.figure(figsize=(8,6))\n",
    "sns.scatterplot(x='support', y='confidence', size='lift',sizes =(20,200), data=rules)\n",
    "plt.xlabel(\"support\")\n",
    "plt.ylabel(\"confidence\")\n",
    "plt.grid()\n",
    "plt.show()"
   ]
  },
  {
   "cell_type": "code",
   "execution_count": null,
   "id": "3a248def-9aca-4ec7-bb67-25fb8e0febeb",
   "metadata": {},
   "outputs": [],
   "source": []
  },
  {
   "cell_type": "markdown",
   "id": "7e5ac4b9-d077-46a9-a8cb-a4dbd12be186",
   "metadata": {},
   "source": [
    "# 3. Dimensionality Reduction\n",
    "- Dimension Reduction means when we have a large dataset with too many features, that can cause issues like overfitting or low accuracy\n",
    "- It helps in reducing the number of features while retaining our key info."
   ]
  },
  {
   "cell_type": "code",
   "execution_count": 36,
   "id": "35e54270-cc6d-44ac-88c3-fee07e7bad5c",
   "metadata": {},
   "outputs": [
    {
     "name": "stdout",
     "output_type": "stream",
     "text": [
      "<class 'pandas.core.frame.DataFrame'>\n",
      "Index: 397680 entries, 0 to 541908\n",
      "Data columns (total 8 columns):\n",
      " #   Column       Non-Null Count   Dtype  \n",
      "---  ------       --------------   -----  \n",
      " 0   InvoiceNo    397680 non-null  object \n",
      " 1   StockCode    397680 non-null  object \n",
      " 2   Description  397680 non-null  object \n",
      " 3   Quantity     397680 non-null  int64  \n",
      " 4   InvoiceDate  397680 non-null  object \n",
      " 5   UnitPrice    397680 non-null  float64\n",
      " 6   CustomerID   397680 non-null  float64\n",
      " 7   Country      397680 non-null  object \n",
      "dtypes: float64(2), int64(1), object(5)\n",
      "memory usage: 27.3+ MB\n"
     ]
    }
   ],
   "source": [
    "data.info()"
   ]
  },
  {
   "cell_type": "markdown",
   "id": "29bcb3f0-f53a-4d89-9ea1-b9f698cdd097",
   "metadata": {},
   "source": [
    "## Why Dimensionality Reduction?\n",
    "- It will slow down model\n",
    "- it may cause overfitting(model learns  from noise)"
   ]
  },
  {
   "cell_type": "markdown",
   "id": "7c3f048a-a22e-4b49-82fc-58787103a15c",
   "metadata": {},
   "source": [
    "## What are the Techniques?\n",
    "- PCA ( Principal component Analysis)\n",
    "  \n",
    "- t-SNE ( T- Distributed Stochastic Neigbhor Embedding)"
   ]
  },
  {
   "cell_type": "markdown",
   "id": "2b89b507-9e47-4ae8-960d-541ed42c2761",
   "metadata": {},
   "source": [
    "### 1. PCA ( Principal component Analysis)\n",
    "it finds new features, we also called them principal components.\n",
    "- they are fewer in number and  are most important ones.\n",
    "- these features are combinations of the old ones.\n",
    "\n",
    "### Real example:\n",
    "wall mart:\n",
    "1. Age\n",
    "2. income\n",
    "3. spending score\n",
    "4. time spend in a store\n",
    "5. no. of products you brought\n",
    "6. total transaction\n",
    "7. country\n",
    "8. city\n",
    "9. invoice number\n",
    "10. customer name\n",
    "11. Description of the itmes\n",
    "\n"
   ]
  },
  {
   "cell_type": "markdown",
   "id": "3b588606-4f75-4b83-89c5-e2a1d20908c0",
   "metadata": {},
   "source": [
    "### 2. - t-SNE ( T- Distributed Stochastic Neigbhor Embedding)\n",
    "- It works for plotting(visuals)\n",
    "- it is slower than PCA"
   ]
  },
  {
   "cell_type": "code",
   "execution_count": null,
   "id": "70539044-7c60-4514-ad2f-f0b3d52de64c",
   "metadata": {},
   "outputs": [],
   "source": []
  },
  {
   "cell_type": "markdown",
   "id": "ad22488f-7990-4ca2-a9b6-c216301f6e76",
   "metadata": {},
   "source": [
    "# HOMEWORK FOR MONDAY\n",
    "- UNDERSTAND - ML-TYPES-DATA CLEANING , HOW WE DO. linear regression ( pratice, Iris )\n",
    "- undestand Unsupervised ML\n",
    "- Unsupervised ML types"
   ]
  },
  {
   "cell_type": "code",
   "execution_count": null,
   "id": "c5569e6e-99cf-491e-bf6b-b1069fea2da7",
   "metadata": {},
   "outputs": [],
   "source": []
  }
 ],
 "metadata": {
  "kernelspec": {
   "display_name": "Python 3 (ipykernel)",
   "language": "python",
   "name": "python3"
  },
  "language_info": {
   "codemirror_mode": {
    "name": "ipython",
    "version": 3
   },
   "file_extension": ".py",
   "mimetype": "text/x-python",
   "name": "python",
   "nbconvert_exporter": "python",
   "pygments_lexer": "ipython3",
   "version": "3.12.4"
  }
 },
 "nbformat": 4,
 "nbformat_minor": 5
}

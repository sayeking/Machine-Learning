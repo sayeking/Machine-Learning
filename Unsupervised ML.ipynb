{
 "cells": [
  {
   "cell_type": "markdown",
   "id": "769b3dcb-b315-4ebd-a592-76544febbbc1",
   "metadata": {},
   "source": [
    "#  UnSupervised Machine Learning\n",
    "- UnSupervised Machine Learning works with unlabeled data.\n",
    "- It is used to find patterns without predefined outputs.\n",
    "  \n",
    "## There are 3 Categories:\n",
    "- Clustering\n",
    "- Association Rule minig\n",
    "- Dimension reduction"
   ]
  },
  {
   "cell_type": "markdown",
   "id": "099552aa-ed2d-4368-86a6-31010c80f9a7",
   "metadata": {},
   "source": [
    "# 1 : Clustering\n",
    "- Clustering Algorithms group similiar data points.\n",
    "- The goal is to identify natural grouping in the data.\n",
    "\n",
    "## Types of Clustering\n",
    "- There are multiple types of Clustering based on methods:\n",
    "- Centroid-based methods\n",
    "- Distribution based\n",
    "- connectivity based\n",
    "- density based"
   ]
  },
  {
   "cell_type": "markdown",
   "id": "69319310-5442-43cb-bf98-9f7d7939e878",
   "metadata": {},
   "source": [
    "# 1. Centroid-based methods\n",
    "- Represented Clusters using central points\n",
    "- K-means Clustering\n",
    "\n",
    "# 2. Distribution based\n",
    "- Guassian Mixture models(GMMs)\n",
    "\n",
    "# 3. Connectivity based models\n",
    "- Hiearhical clustering : Builds a tree like structure by merging or splitting clusters.\n",
    "\n",
    "# 4. Density Based\n",
    "- DBSCAN(Density Based):  they form clusters based on density."
   ]
  },
  {
   "cell_type": "code",
   "execution_count": null,
   "id": "28cb77b3-9f03-4e86-808f-72245ecf276b",
   "metadata": {},
   "outputs": [],
   "source": []
  },
  {
   "cell_type": "markdown",
   "id": "3bf6eaaf-e5f3-44f1-930a-485fb0b9b69a",
   "metadata": {},
   "source": [
    "# 2. Association Rule\n",
    "-  Finding patterns between items in large datasets:\n",
    "-  MBA( Market Basket Analysis) : if a person buys butter he may also buy bread."
   ]
  },
  {
   "cell_type": "code",
   "execution_count": null,
   "id": "49f0c9d5-1479-453f-a894-41ee17bc2afa",
   "metadata": {},
   "outputs": [],
   "source": []
  }
 ],
 "metadata": {
  "kernelspec": {
   "display_name": "Python 3 (ipykernel)",
   "language": "python",
   "name": "python3"
  },
  "language_info": {
   "codemirror_mode": {
    "name": "ipython",
    "version": 3
   },
   "file_extension": ".py",
   "mimetype": "text/x-python",
   "name": "python",
   "nbconvert_exporter": "python",
   "pygments_lexer": "ipython3",
   "version": "3.12.4"
  }
 },
 "nbformat": 4,
 "nbformat_minor": 5
}
